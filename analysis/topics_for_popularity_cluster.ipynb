{
 "metadata": {
  "name": ""
 },
 "nbformat": 3,
 "nbformat_minor": 0,
 "worksheets": [
  {
   "cells": [
    {
     "cell_type": "markdown",
     "metadata": {},
     "source": [
      "### We generated clusters in counting_bibleverses_with_py_collections. Now lets try to find topics"
     ]
    },
    {
     "cell_type": "code",
     "collapsed": false,
     "input": [
      "# see http://scikit-learn.org/stable/modules/feature_extraction.html#text-feature-extraction\n",
      "# http://scikit-learn.org/stable/auto_examples/applications/topics_extraction_with_nmf.html\n",
      "import pyes\n",
      "import json\n",
      "from datetime import datetime, timedelta"
     ],
     "language": "python",
     "metadata": {},
     "outputs": [],
     "prompt_number": 65
    },
    {
     "cell_type": "code",
     "collapsed": false,
     "input": [
      "# bv_set = json.loads('[\"ephesians 2:8\", \"hebrews 13:16\", \"i_corinthians 13:4\", \"ii_chronicles 15:7\", \"isaiah 32:17\", \"james 1:19\", \"luke 6:27\", \"matthew 21:22\", \"matthew 5:8\", \"philippians 4:13\", \"proverbs 17:28\", \"revelation 1:8\"]')   \n",
      "bv_set = [\"john 15:13\"]\n",
      "# bv_set = [\"john 13:7\", \"matthew 21:22\", \"philippians 4:13\"]\n",
      "bv_set = [\"hebrews 11:1\", \"hebrews 13:5\", \"i_chronicles 16:34\", \"i_corinthians 13:4\", \"i_john 4:18\", \"i_peter 5:7\", \"ii_samuel 7:22\", \"ii_timothy 1:7\", \"isaiah 40:8\", \"jeremiah 29:11\", \"john 3:16\", \"john 3:17\", \"luke 6:27\", \"matthew 19:26\", \"matthew 22:37\", \"matthew 28:20\", \"matthew 7:8\", \"proverbs 11:25\", \"proverbs 12:19\", \"proverbs 13:3\", \"proverbs 15:1\", \"proverbs 17:17\", \"proverbs 27:2\", \"psalm 125:1\", \"psalm 33:12\", \"psalm 55:22\"]"
     ],
     "language": "python",
     "metadata": {},
     "outputs": [],
     "prompt_number": 66
    },
    {
     "cell_type": "code",
     "collapsed": false,
     "input": [
      "print bv_set, len(bv_set)\n",
      "bv_tokens = []\n",
      "[bv_tokens.extend(bv.replace(\":\",\" \").split()) for bv in bv_set]\n",
      "print bv_tokens"
     ],
     "language": "python",
     "metadata": {},
     "outputs": [
      {
       "output_type": "stream",
       "stream": "stdout",
       "text": [
        "['hebrews 11:1', 'hebrews 13:5', 'i_chronicles 16:34', 'i_corinthians 13:4', 'i_john 4:18', 'i_peter 5:7', 'ii_samuel 7:22', 'ii_timothy 1:7', 'isaiah 40:8', 'jeremiah 29:11', 'john 3:16', 'john 3:17', 'luke 6:27', 'matthew 19:26', 'matthew 22:37', 'matthew 28:20', 'matthew 7:8', 'proverbs 11:25', 'proverbs 12:19', 'proverbs 13:3', 'proverbs 15:1', 'proverbs 17:17', 'proverbs 27:2', 'psalm 125:1', 'psalm 33:12', 'psalm 55:22'] 26\n",
        "['hebrews', '11', '1', 'hebrews', '13', '5', 'i_chronicles', '16', '34', 'i_corinthians', '13', '4', 'i_john', '4', '18', 'i_peter', '5', '7', 'ii_samuel', '7', '22', 'ii_timothy', '1', '7', 'isaiah', '40', '8', 'jeremiah', '29', '11', 'john', '3', '16', 'john', '3', '17', 'luke', '6', '27', 'matthew', '19', '26', 'matthew', '22', '37', 'matthew', '28', '20', 'matthew', '7', '8', 'proverbs', '11', '25', 'proverbs', '12', '19', 'proverbs', '13', '3', 'proverbs', '15', '1', 'proverbs', '17', '17', 'proverbs', '27', '2', 'psalm', '125', '1', 'psalm', '33', '12', 'psalm', '55', '22']\n"
       ]
      }
     ],
     "prompt_number": 67
    },
    {
     "cell_type": "code",
     "collapsed": false,
     "input": [
      "from pyes import ES\n",
      "from pyes.query import MatchAllQuery, FilteredQuery, BoolQuery, MatchQuery, TextQuery\n",
      "from pyes.filters import RangeFilter, TermFilter, QueryFilter, ANDFilter\n",
      "from pyes.utils import ESRange, ESRangeOp\n",
      "\n",
      "conn = ES('192.168.117.4:9201')\n",
      "ts_field='created_at_date'\n",
      "start = datetime.now() + timedelta(days=-15)\n",
      "start = start.strftime(\"%Y-%m-%d\")\n",
      "start"
     ],
     "language": "python",
     "metadata": {},
     "outputs": [
      {
       "metadata": {},
       "output_type": "pyout",
       "prompt_number": 68,
       "text": [
        "'2014-05-15'"
       ]
      }
     ],
     "prompt_number": 68
    },
    {
     "cell_type": "code",
     "collapsed": false,
     "input": [
      "# filter on days\n",
      "import re\n",
      "def get_text_from_es(bibleverse, start):\n",
      "    q = MatchAllQuery()\n",
      "    filters = []\n",
      "    filters.append(RangeFilter(qrange=ESRangeOp(field=ts_field, op1='gte',value1=start)))\n",
      "    filters.append(TermFilter(field=\"bibleverse\",value=bibleverse))\n",
      "    q = FilteredQuery(MatchAllQuery(), ANDFilter(filters))\n",
      "    q = q.search(size=20)\n",
      "    resultset = conn.search(indices=[\"habakkuk-all\"], doc_types=[\"habakkuk\"], query=q, size=20)\n",
      "    print \"Total results %s %s docs\"%(bibleverse, resultset.total)\n",
      "    res = list()\n",
      "    for r in resultset:\n",
      "        t = re.sub(\"[@#]\\w+(?:$|\\W)\",\"\", r['text'])\n",
      "        res.append(t)\n",
      "    return res\n",
      "                                 \n"
     ],
     "language": "python",
     "metadata": {},
     "outputs": [],
     "prompt_number": 69
    },
    {
     "cell_type": "code",
     "collapsed": false,
     "input": [
      "corpus = []\n",
      "for bv in bv_set:\n",
      "    ret = get_text_from_es(bv, start)\n",
      "    corpus.append(\" \".join(ret))\n",
      "    print len(\" \".join(ret))\n",
      "    "
     ],
     "language": "python",
     "metadata": {},
     "outputs": [
      {
       "output_type": "stream",
       "stream": "stdout",
       "text": [
        "Total results hebrews 11:1 101 docs\n",
        "1956\n",
        "Total results hebrews 13:5 69 docs\n",
        "2236\n",
        "Total results i_chronicles 16:34 28 docs\n",
        "1780\n",
        "Total results i_corinthians 13:4 103 docs\n",
        "2084\n",
        "Total results i_john 4:18 60 docs\n",
        "1482\n",
        "Total results i_peter 5:7 120 docs\n",
        "1871\n",
        "Total results ii_samuel 7:22 3 docs\n",
        "327\n",
        "Total results ii_timothy 1:7 72 docs"
       ]
      },
      {
       "output_type": "stream",
       "stream": "stdout",
       "text": [
        "\n",
        "2063\n",
        "Total results isaiah 40:8 24 docs\n",
        "2019\n",
        "Total results jeremiah 29:11 70 docs\n",
        "1539\n",
        "Total results john 3:16 54 docs\n",
        "1852\n",
        "Total results john 3:17 63 docs\n",
        "2324\n",
        "Total results luke 6:27 66 docs\n",
        "1959\n",
        "Total results matthew 19:26 106 docs"
       ]
      },
      {
       "output_type": "stream",
       "stream": "stdout",
       "text": [
        "\n",
        "1595\n",
        "Total results matthew 22:37 75 docs\n",
        "2241\n",
        "Total results matthew 28:20 55 docs\n",
        "1043\n",
        "Total results matthew 7:8 28 docs\n",
        "2252\n",
        "Total results proverbs 11:25 56 docs\n",
        "1270\n",
        "Total results proverbs 12:19 16 docs\n",
        "1607\n",
        "Total results proverbs 13:3 29 docs\n",
        "2190\n",
        "Total results proverbs 15:1 52 docs"
       ]
      },
      {
       "output_type": "stream",
       "stream": "stdout",
       "text": [
        "\n",
        "1825\n",
        "Total results proverbs 17:17 38 docs\n",
        "2099\n",
        "Total results proverbs 27:2 45 docs\n",
        "1425\n",
        "Total results psalm 125:1 13 docs\n",
        "1529\n",
        "Total results psalm 33:12 29 docs\n",
        "2024\n",
        "Total results psalm 55:22 50 docs\n",
        "2399\n"
       ]
      }
     ],
     "prompt_number": 70
    },
    {
     "cell_type": "code",
     "collapsed": false,
     "input": [
      "# http://scikit-learn.org/stable/auto_examples/applications/topics_extraction_with_nmf.html\n",
      "from sklearn import decomposition\n",
      "import time\n",
      "from sklearn.feature_extraction.text import CountVectorizer, TfidfVectorizer\n",
      "from sklearn.feature_extraction.text import ENGLISH_STOP_WORDS\n",
      "# from __future__ import print_function\n",
      "\n",
      "n_samples = len(corpus)\n",
      "n_features = 5000\n",
      "n_topics = 1 # len(corpus)\n",
      "print (\"n_topics\",n_topics)\n",
      "n_top_words = 3\n",
      "\n",
      "# vectorize the tweet text using the most common word\n",
      "# frequency with TF-IDF weighting (without the top 5% stop words)\n",
      "vectorizer = TfidfVectorizer(max_features=n_features, \n",
      "                             ngram_range=(1,3)\n",
      "                             )\n",
      "stoplist = ['retweet', 'rt', 'http']\n",
      "print bv_tokens\n",
      "vectorizer.set_params(stop_words=set(list(ENGLISH_STOP_WORDS)+stoplist+bv_tokens))\n",
      "tfidf = vectorizer.fit_transform(corpus)\n",
      "feature_names = vectorizer.get_feature_names()\n",
      "print \"num_feature_names\",len(feature_names)\n",
      "\n",
      "# Fit the NMF model\n",
      "print \"Fitting the NMF model on with n_samples=%d and n_features=%d...\"\\\n",
      "  % (n_samples, n_features)\n",
      "nmf = decomposition.NMF(n_components=n_topics, random_state=42).fit(tfidf)\n",
      "\n",
      "cluster_topics = []\n",
      "for topic_idx, topic in enumerate(nmf.components_):\n",
      "    print(\"Topic #%d:\" % topic_idx)\n",
      "    cluster_topics.append(set([feature_names[i]\n",
      "                    for i in topic.argsort()[:-n_top_words - 1:-1]]))\n",
      "    print(\", \".join([feature_names[i]\n",
      "                    for i in topic.argsort()[:-n_top_words - 1:-1]]))\n",
      "    print()"
     ],
     "language": "python",
     "metadata": {},
     "outputs": [
      {
       "output_type": "stream",
       "stream": "stdout",
       "text": [
        "('n_topics', 1)\n",
        "['hebrews', '11', '1', 'hebrews', '13', '5', 'i_chronicles', '16', '34', 'i_corinthians', '13', '4', 'i_john', '4', '18', 'i_peter', '5', '7', 'ii_samuel', '7', '22', 'ii_timothy', '1', '7', 'isaiah', '40', '8', 'jeremiah', '29', '11', 'john', '3', '16', 'john', '3', '17', 'luke', '6', '27', 'matthew', '19', '26', 'matthew', '22', '37', 'matthew', '28', '20', 'matthew', '7', '8', 'proverbs', '11', '25', 'proverbs', '12', '19', 'proverbs', '13', '3', 'proverbs', '15', '1', 'proverbs', '17', '17', 'proverbs', '27', '2', 'psalm', '125', '1', 'psalm', '33', '12', 'psalm', '55', '22']\n",
        "num_feature_names 100\n",
        "Fitting the NMF model on with n_samples=26 and n_features=100...\n",
        "Topic #0:"
       ]
      },
      {
       "output_type": "stream",
       "stream": "stdout",
       "text": [
        "\n",
        "lord, god, love\n",
        "()\n"
       ]
      }
     ],
     "prompt_number": "*"
    },
    {
     "cell_type": "code",
     "collapsed": false,
     "input": [],
     "language": "python",
     "metadata": {},
     "outputs": [],
     "prompt_number": 71
    }
   ],
   "metadata": {}
  }
 ]
}